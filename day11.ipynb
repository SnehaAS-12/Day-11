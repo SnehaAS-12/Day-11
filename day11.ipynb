{
  "nbformat": 4,
  "nbformat_minor": 0,
  "metadata": {
    "colab": {
      "name": "day11.ipynb",
      "provenance": [],
      "collapsed_sections": []
    },
    "kernelspec": {
      "name": "python3",
      "display_name": "Python 3"
    },
    "language_info": {
      "name": "python"
    }
  },
  "cells": [
    {
      "cell_type": "code",
      "metadata": {
        "colab": {
          "base_uri": "https://localhost:8080/"
        },
        "id": "OIDLXBSIYiBn",
        "outputId": "fbb1c2d1-cd29-4a57-abac-559cd4bc30be"
      },
      "source": [
        "#python module with list and import the module in another .py file and change the value in list\n",
        "from google.colab import drive\n",
        "drive.mount('/content/drive')\n",
        "a=!python '/content/drive/MyDrive/Colab Notebooks/MYMODULE.py'\n",
        "print(a)\n",
        "a=[\"dark chocolate\",\"5 star\",\"cadbury\",\"kitkat\",\"perk\"]\n",
        "print(a)"
      ],
      "execution_count": 48,
      "outputs": [
        {
          "output_type": "stream",
          "text": [
            "Drive already mounted at /content/drive; to attempt to forcibly remount, call drive.mount(\"/content/drive\", force_remount=True).\n",
            "[]\n",
            "['dark chocolate', '5 star', 'cadbury', 'kitkat', 'perk']\n"
          ],
          "name": "stdout"
        }
      ]
    },
    {
      "cell_type": "code",
      "metadata": {
        "colab": {
          "base_uri": "https://localhost:8080/"
        },
        "id": "kS0YsxSYgAtv",
        "outputId": "dfb640c0-1829-4872-c75b-0e1c65703de6"
      },
      "source": [
        "#Install pandas package \n",
        "%pip install pandas"
      ],
      "execution_count": 69,
      "outputs": [
        {
          "output_type": "stream",
          "text": [
            "Requirement already satisfied: pandas in /usr/local/lib/python3.7/dist-packages (1.1.5)\n",
            "Requirement already satisfied: numpy>=1.15.4 in /usr/local/lib/python3.7/dist-packages (from pandas) (1.19.5)\n",
            "Requirement already satisfied: pytz>=2017.2 in /usr/local/lib/python3.7/dist-packages (from pandas) (2018.9)\n",
            "Requirement already satisfied: python-dateutil>=2.7.3 in /usr/local/lib/python3.7/dist-packages (from pandas) (2.8.1)\n",
            "Requirement already satisfied: six>=1.5 in /usr/local/lib/python3.7/dist-packages (from python-dateutil>=2.7.3->pandas) (1.15.0)\n"
          ],
          "name": "stdout"
        }
      ]
    },
    {
      "cell_type": "code",
      "metadata": {
        "colab": {
          "base_uri": "https://localhost:8080/"
        },
        "id": "XynaWrUugRQ-",
        "outputId": "b9f26113-815a-4aa5-d865-d3ccd93fcc22"
      },
      "source": [
        "#Import a module that picks random number and write a program to fetch a random number from 1 to  100 on every run\n",
        "import random\n",
        "print(random.randint(1,100))"
      ],
      "execution_count": 53,
      "outputs": [
        {
          "output_type": "stream",
          "text": [
            "51\n"
          ],
          "name": "stdout"
        }
      ]
    },
    {
      "cell_type": "code",
      "metadata": {
        "colab": {
          "base_uri": "https://localhost:8080/"
        },
        "id": "7BEC0jnFhJt5",
        "outputId": "b3f99199-6986-44bd-e863-f4f51e973a42"
      },
      "source": [
        "#Import sys package and find the python path\n",
        "import sys\n",
        "sys.path"
      ],
      "execution_count": 54,
      "outputs": [
        {
          "output_type": "execute_result",
          "data": {
            "text/plain": [
              "['/content/drive/My Drive/Colab Notebooks',\n",
              " '/content/drive/My Drive/Colab Notebooks',\n",
              " '/content/drive/My Drive/Colab Notebooks',\n",
              " '/content/drive/My Drive/Colab Notebooks',\n",
              " '/content/drive/My Drive/Colab Notebooks',\n",
              " '/content/drive/My Drive/Colab Notebooks',\n",
              " '/content/drive/My Drive/Colab Notebooks',\n",
              " '/content/drive/My Drive/Colab Notebooks',\n",
              " '/content/drive/My Drive/Colab Notebooks',\n",
              " '/content/drive/My Drive/Colab Notebooks',\n",
              " '/content/drive/My Drive/Colab Notebooks',\n",
              " '/content/drive/My Drive/Colab Notebooks',\n",
              " '/content/drive/My Drive/Colab Notebooks',\n",
              " '/content/drive/My Drive/Colab Notebooks',\n",
              " '/content/drive/My Drive/Colab Notebooks',\n",
              " '/content/drive/My Drive/ColabNotebooks',\n",
              " '/content/drive/My Drive/ColabNotebooks',\n",
              " '/content/drive/My Drive/ColabNotebooks',\n",
              " '/content/drive/My Drive/ColabNotebooks',\n",
              " '/content/drive/My Drive/ColabNotebooks',\n",
              " '',\n",
              " '/content',\n",
              " '/env/python',\n",
              " '/usr/lib/python37.zip',\n",
              " '/usr/lib/python3.7',\n",
              " '/usr/lib/python3.7/lib-dynload',\n",
              " '/usr/local/lib/python3.7/dist-packages',\n",
              " '/usr/lib/python3/dist-packages',\n",
              " '/usr/local/lib/python3.7/dist-packages/IPython/extensions',\n",
              " '/root/.ipython']"
            ]
          },
          "metadata": {
            "tags": []
          },
          "execution_count": 54
        }
      ]
    },
    {
      "cell_type": "code",
      "metadata": {
        "colab": {
          "base_uri": "https://localhost:8080/"
        },
        "id": "F-853iedh7Ix",
        "outputId": "1ebc3a9d-3ca7-4d45-fcf5-71972861c892"
      },
      "source": [
        "#Try to install a package and uninstall a package using pip\n",
        "%pip install django"
      ],
      "execution_count": 70,
      "outputs": [
        {
          "output_type": "stream",
          "text": [
            "Collecting django\n",
            "\u001b[?25l  Downloading https://files.pythonhosted.org/packages/70/22/ed1943c0ef2be99ade872f49a20aa4cfc70eb4ffc866fc61b128211f3e5d/Django-3.2.4-py3-none-any.whl (7.9MB)\n",
            "\u001b[K     |████████████████████████████████| 7.9MB 7.9MB/s \n",
            "\u001b[?25hCollecting asgiref<4,>=3.3.2\n",
            "  Downloading https://files.pythonhosted.org/packages/17/8b/05e225d11154b8f5358e6a6d277679c9741ec0339d1e451c9cef687a9170/asgiref-3.3.4-py3-none-any.whl\n",
            "Requirement already satisfied: pytz in /usr/local/lib/python3.7/dist-packages (from django) (2018.9)\n",
            "Requirement already satisfied: sqlparse>=0.2.2 in /usr/local/lib/python3.7/dist-packages (from django) (0.4.1)\n",
            "Requirement already satisfied: typing-extensions; python_version < \"3.8\" in /usr/local/lib/python3.7/dist-packages (from asgiref<4,>=3.3.2->django) (3.7.4.3)\n",
            "Installing collected packages: asgiref, django\n",
            "Successfully installed asgiref-3.3.4 django-3.2.4\n"
          ],
          "name": "stdout"
        }
      ]
    },
    {
      "cell_type": "code",
      "metadata": {
        "colab": {
          "base_uri": "https://localhost:8080/"
        },
        "id": "KeiAJ3XjoPgZ",
        "outputId": "0d162fc9-b75d-4204-af87-7c736cbd1324"
      },
      "source": [
        "%pip uninstall django"
      ],
      "execution_count": 71,
      "outputs": [
        {
          "output_type": "stream",
          "text": [
            "Uninstalling Django-3.2.4:\n",
            "  Would remove:\n",
            "    /usr/local/bin/django-admin\n",
            "    /usr/local/bin/django-admin.py\n",
            "    /usr/local/lib/python3.7/dist-packages/Django-3.2.4.dist-info/*\n",
            "    /usr/local/lib/python3.7/dist-packages/django/*\n",
            "Proceed (y/n)? y\n",
            "  Successfully uninstalled Django-3.2.4\n"
          ],
          "name": "stdout"
        }
      ]
    }
  ]
}